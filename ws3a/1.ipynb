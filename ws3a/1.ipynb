{
 "cells": [
  {
   "cell_type": "markdown",
   "id": "ef9c4334",
   "metadata": {},
   "source": [
    "| 类型                                       | 适用场景                                                           | 结构特点                                                                          | 示例                                                                                                                                                                                                                                                                      | 模板形式                                                                                                                           |\n",
    "| ---------------------------------------- | -------------------------------------------------------------- | ----------------------------------------------------------------------------- | ----------------------------------------------------------------------------------------------------------------------------------------------------------------------------------------------------------------------------------------------------------------------- | ------------------------------------------------------------------------------------------------------------------------------ |\n",
    "| **Basic Data Type Definition**（基本数据类型定义） | 当需要对一个已有的基本类型（`int`、`double`、`String` 等）进行**额外约束**或**特定解释**时使用 | - 基于已有类型<br>- 加上语义解释和合法性约束<br>- 通常用 Javadoc 描述用途和例子                           | `java /** A UID is a String of exactly 8 characters starting with 'u'... */ `                                                                                                                                                                                           | 直接使用该类型的值，不需要特殊代码结构                                                                                                            |\n",
    "| **Enumeration**（枚举）                      | 有**固定数量的离散值**，没有额外数据                                           | - 使用 `enum` 定义<br>- 每个枚举值都是唯一的常量<br>- 需要给整体和每个值加注释                            | `java enum TrafficLightState { RED, YELLOW, GREEN } `                                                                                                                                                                                                                   | `java switch(x) { case RED -> ...; case YELLOW -> ...; case GREEN -> ...; } `                                                  |\n",
    "| **Record**（记录）                           | 数据包含**多个字段**时                                                  | - 使用 `record` 定义<br>- 自动生成构造器、`equals`、`hashCode`、`toString`<br>- 字段不可变       | `java record Student(String name, String uid, String program) {} `                                                                                                                                                                                                      | `java // 使用字段 x.f1() ... x.fN() `                                                                                              |\n",
    "| **General Itemization**（通用项目化）           | 有**有限个不同的情况**，但每种情况都有**不同的数据结构**                               | - 使用 `sealed interface` 定义整体类型<br>- 每种情况用一个 `record` 实现接口<br>- 可以关联不同数量/类型的字段 | `java sealed interface Shape permits Circle, Rectangle, RightTriangle {} record Circle(double radius) implements Shape {} record Rectangle(double width, double height) implements Shape {} record RightTriangle(double leftLeg, double rightLeg) implements Shape {} ` | `java switch(x) { case Circle(var r) -> ...; case Rectangle(var w, var h) -> ...; case RightTriangle(var l, var r) -> ...; } ` |\n"
   ]
  }
 ],
 "metadata": {
  "language_info": {
   "name": "python"
  }
 },
 "nbformat": 4,
 "nbformat_minor": 5
}
